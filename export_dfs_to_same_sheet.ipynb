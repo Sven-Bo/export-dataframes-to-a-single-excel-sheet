{
 "cells": [
  {
   "cell_type": "markdown",
   "id": "15dda14f",
   "metadata": {},
   "source": [
    "# Export multiple DataFrames into `one` Excel sheet"
   ]
  },
  {
   "cell_type": "markdown",
   "id": "ac1b738c",
   "metadata": {},
   "source": [
    "<div class=\"alert alert-block alert-info\">\n",
    "<b>If you want to export DataFrames to a new/existing Excel workbook watch the following video:</b><br>👉 <a href=\"https://youtu.be/DroafWQXqDw\">https://youtu.be/DroafWQXqDwt</a></div>"
   ]
  },
  {
   "cell_type": "markdown",
   "id": "91891377",
   "metadata": {},
   "source": [
    "<hr>"
   ]
  },
  {
   "cell_type": "markdown",
   "id": "dea13ee5",
   "metadata": {},
   "source": [
    "## Imports & load DataFrames"
   ]
  },
  {
   "cell_type": "code",
   "execution_count": 2,
   "id": "38f1d23a",
   "metadata": {},
   "outputs": [],
   "source": [
    "import pandas as pd"
   ]
  },
  {
   "cell_type": "markdown",
   "id": "1ded6893",
   "metadata": {},
   "source": [
    "<div class=\"alert alert-block alert-warning\">\n",
    "<b>openpyxl</b> is an optional dependency of Pandas. Ensure you have openpyxl installed.</div>"
   ]
  },
  {
   "cell_type": "markdown",
   "id": "de79e70b",
   "metadata": {},
   "source": [
    "<p style=\"background:black\">\n",
    "<code style=\"background:black;color:white\">C:\\Users\\YOUR_USERNAME> pip install openpyxl\n",
    "</code>\n",
    "</p>"
   ]
  },
  {
   "cell_type": "code",
   "execution_count": 3,
   "id": "1c5bc240",
   "metadata": {},
   "outputs": [],
   "source": [
    "# Create Dataframes\n",
    "df1 = pd.read_csv(\"https://raw.githubusercontent.com/mwaskom/seaborn-data/master/tips.csv\")\n",
    "df2 = df1.groupby(by=\"sex\").sum()[[\"tip\"]]\n",
    "df3 = df1.groupby(by=\"day\").sum()[[\"tip\"]]"
   ]
  },
  {
   "cell_type": "markdown",
   "id": "8a72f201",
   "metadata": {},
   "source": [
    "## OPTION 1: WRITE TO `NEW` EXCEL FILE (will overwrite existing workbook)"
   ]
  },
  {
   "cell_type": "code",
   "execution_count": 4,
   "id": "b636e362",
   "metadata": {},
   "outputs": [],
   "source": [
    "with pd.ExcelWriter(\"output.xlsx\", engine=\"openpyxl\") as writer:\n",
    "    df1.to_excel(writer, sheet_name=\"Sheet_1\") # Default position: cell A1.\n",
    "    df2.to_excel(writer, sheet_name=\"Sheet_1\", startcol=10, startrow=1, header=True, index=False) \n",
    "    df3.to_excel(writer, sheet_name=\"Sheet_1\", startcol=15, startrow=2, header=True, index=False)"
   ]
  },
  {
   "cell_type": "markdown",
   "id": "8999aee2",
   "metadata": {},
   "source": [
    "## OPTION 2: WRITE TO `EXISTING` EXCEL FILE"
   ]
  },
  {
   "cell_type": "markdown",
   "id": "5d3cc951",
   "metadata": {},
   "source": [
    "<p style=\"background:black\">\n",
    "<code style=\"background:black;color:white\">C:\\Users\\YOUR_USERNAME> pip install xlwings --upgrade\n",
    "</code>\n",
    "</p>"
   ]
  },
  {
   "cell_type": "code",
   "execution_count": 5,
   "id": "9d094cc1",
   "metadata": {},
   "outputs": [],
   "source": [
    "import xlwings as xw\n",
    "\n",
    "#--------------------------------------------------\n",
    "# ADJUST THE FOLLOWING:\n",
    "wb_name = \"output.xlsx\"\n",
    "sheet_name = \"xlwings_option\"\n",
    "df_mapping = {\"A1\": df1, \"K1\": df2, \"K5\": df3}\n",
    "#--------------------------------------------------\n",
    "\n",
    "# Open Excel in background\n",
    "with xw.App(visible=False) as app:\n",
    "    wb = app.books.open(wb_name)\n",
    "\n",
    "    # Add sheet if it does not exist\n",
    "    current_sheets = [sheet.name for sheet in wb.sheets]\n",
    "    if sheet_name not in current_sheets:\n",
    "        wb.sheets.add(sheet_name)\n",
    "\n",
    "    # Write dataframe to cell range\n",
    "    for cell_target, df in df_mapping.items():\n",
    "        wb.sheets(sheet_name).range(cell_target).options(pd.DataFrame, index=False).value = df\n",
    "\n",
    "    wb.save()"
   ]
  }
 ],
 "metadata": {
  "kernelspec": {
   "display_name": "Python 3 (ipykernel)",
   "language": "python",
   "name": "python3"
  },
  "language_info": {
   "codemirror_mode": {
    "name": "ipython",
    "version": 3
   },
   "file_extension": ".py",
   "mimetype": "text/x-python",
   "name": "python",
   "nbconvert_exporter": "python",
   "pygments_lexer": "ipython3",
   "version": "3.8.5"
  }
 },
 "nbformat": 4,
 "nbformat_minor": 5
}
